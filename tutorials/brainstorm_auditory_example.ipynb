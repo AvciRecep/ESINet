{
 "metadata": {
  "language_info": {
   "codemirror_mode": {
    "name": "ipython",
    "version": 3
   },
   "file_extension": ".py",
   "mimetype": "text/x-python",
   "name": "python",
   "nbconvert_exporter": "python",
   "pygments_lexer": "ipython3",
   "version": "3.8.3-final"
  },
  "orig_nbformat": 2,
  "kernelspec": {
   "name": "python38364bittfgpu2condad93025225eb74b59b81cf186a8a6ad6f",
   "display_name": "Python 3.8.3 64-bit ('tf_gpu2': conda)",
   "language": "python"
  }
 },
 "nbformat": 4,
 "nbformat_minor": 2,
 "cells": [
  {
   "cell_type": "code",
   "execution_count": 1,
   "metadata": {},
   "outputs": [],
   "source": [
    "import os\n",
    "import numpy as np\n",
    "import pandas as pd\n",
    "import mne\n",
    "import time\n",
    "import sys\n",
    "sys.path.insert(1, '../')\n",
    "\n",
    "kiloword_data_folder = mne.datasets.kiloword.data_path()\n",
    "kiloword_data_file = os.path.join(kiloword_data_folder,\n",
    "                                  'kword_metadata-epo.fif')\n",
    "epochs = mne.read_epochs(kiloword_data_file, verbose=0)"
   ]
  },
  {
   "cell_type": "code",
   "execution_count": null,
   "metadata": {},
   "outputs": [],
   "source": [
    "%matplotlib inline\n",
    "epochs.average().plot()\n",
    "epochs.average().plot_topomap([0.16, 0.2, 0.25, 0.4])"
   ]
  },
  {
   "source": [
    "## Lets prepare the artificial neural network (ANN) for inference!\n",
    "### Create a forward model\n",
    "The forward model will be saved in pth_fwd and contains the boundary element method (BEM) solution and source model."
   ],
   "cell_type": "markdown",
   "metadata": {}
  },
  {
   "cell_type": "code",
   "execution_count": null,
   "metadata": {},
   "outputs": [],
   "source": [
    "from ESINet.forward import create_forward_model\n",
    "\n",
    "# Create a forward model\n",
    "pth_fwd = 'forward_models/kword/ico3/'\n",
    "create_forward_model(pth_fwd, sampling='ico3', info=epochs.info)"
   ]
  },
  {
   "source": [
    "## Perform simulations\n",
    "Artificial neural networks need training data. \n",
    "The simulated sources are created by \"run_simulations\".\n",
    "\n",
    "The EEG produced by these sources plus some additive noise is created by \"create_eeg\"."
   ],
   "cell_type": "markdown",
   "metadata": {}
  },
  {
   "cell_type": "code",
   "execution_count": 1,
   "metadata": {},
   "outputs": [
    {
     "output_type": "error",
     "ename": "NameError",
     "evalue": "name 'pth_fwd' is not defined",
     "traceback": [
      "\u001b[1;31m---------------------------------------------------------------------------\u001b[0m",
      "\u001b[1;31mNameError\u001b[0m                                 Traceback (most recent call last)",
      "\u001b[1;32m<ipython-input-1-29137e7b336b>\u001b[0m in \u001b[0;36m<module>\u001b[1;34m\u001b[0m\n\u001b[0;32m      2\u001b[0m \u001b[1;33m\u001b[0m\u001b[0m\n\u001b[0;32m      3\u001b[0m \u001b[1;31m# Simulate some source and EEG data to train the ANN\u001b[0m\u001b[1;33m\u001b[0m\u001b[1;33m\u001b[0m\u001b[1;33m\u001b[0m\u001b[0m\n\u001b[1;32m----> 4\u001b[1;33m \u001b[0msources_sim\u001b[0m \u001b[1;33m=\u001b[0m \u001b[0mrun_simulations\u001b[0m\u001b[1;33m(\u001b[0m\u001b[0mpth_fwd\u001b[0m\u001b[1;33m,\u001b[0m \u001b[0mdurOfTrial\u001b[0m\u001b[1;33m=\u001b[0m\u001b[1;36m0\u001b[0m\u001b[1;33m,\u001b[0m \u001b[0mn_simulations\u001b[0m\u001b[1;33m=\u001b[0m\u001b[1;36m10000\u001b[0m\u001b[1;33m)\u001b[0m\u001b[1;33m\u001b[0m\u001b[1;33m\u001b[0m\u001b[0m\n\u001b[0m\u001b[0;32m      5\u001b[0m \u001b[0meeg_sim\u001b[0m \u001b[1;33m=\u001b[0m \u001b[0mcreate_eeg\u001b[0m\u001b[1;33m(\u001b[0m\u001b[0msources_sim\u001b[0m\u001b[1;33m,\u001b[0m \u001b[0mpth_fwd\u001b[0m\u001b[1;33m,\u001b[0m \u001b[0msnr\u001b[0m\u001b[1;33m=\u001b[0m\u001b[1;36m2\u001b[0m\u001b[1;33m)\u001b[0m\u001b[1;33m\u001b[0m\u001b[1;33m\u001b[0m\u001b[0m\n",
      "\u001b[1;31mNameError\u001b[0m: name 'pth_fwd' is not defined"
     ]
    }
   ],
   "source": [
    "from ESINet.simulations import run_simulations, create_eeg\n",
    "\n",
    "# Simulate some source and EEG data to train the ANN\n",
    "sources_sim = run_simulations(pth_fwd, durOfTrial=0, n_simulations=10000)\n",
    "eeg_sim = create_eeg(sources_sim, pth_fwd, snr=2)"
   ]
  },
  {
   "source": [
    "## Initialize and train the neural network\n",
    "The function \"get_model\" initializes a neural network architecture.\n",
    "\n",
    "The function \"train_model\" trains the model with the simulations created in the cell above."
   ],
   "cell_type": "markdown",
   "metadata": {}
  },
  {
   "cell_type": "code",
   "execution_count": null,
   "metadata": {},
   "outputs": [],
   "source": [
    "from ESINet.util import load_leadfield\n",
    "from ESINet.ann import get_model, train_model, predict\n",
    "\n",
    "# Initialize and train the neural network\n",
    "input_dim, output_dim = load_leadfield(pth_fwd).shape\n",
    "# Initialize the artificial neural network model\n",
    "model = get_model(input_dim, output_dim)\n",
    "# Train the model\n",
    "model, history = train_model(model, sources_sim, eeg_sim, delta=1, epochs=500)"
   ]
  },
  {
   "source": [
    "## ESINet Inverse Solution"
   ],
   "cell_type": "markdown",
   "metadata": {}
  },
  {
   "cell_type": "code",
   "execution_count": null,
   "metadata": {},
   "outputs": [],
   "source": [
    "from mayavi import mlab\n",
    "import matplotlib.pyplot as plt\n",
    "%matplotlib qt\n",
    "leadfield = load_leadfield(pth_fwd)\n",
    "\n",
    "# Time point\n",
    "time_point = 0.31  # 0.24\n",
    "time_idx = np.argmin(np.abs(epochs.times - time_point))\n",
    "epochs.set_eeg_reference('average', projection=True)\n",
    "\n",
    "# Perform inference using the ANN\n",
    "source_predicted = predict(model, epochs, pth_fwd)\n",
    "\n",
    "# Plot the predicted sources\n",
    "title = f'ConvDip Prediction at {time_point}s'\n",
    "source_predicted.plot(hemi='both', initial_time=time_point, surface='white', colormap='inferno', title=title)\n",
    "\n",
    "\n",
    "# Plot the Predicted EEG, i.e. the forward solution of the inverse solution\n",
    "predicted_eeg = np.squeeze(np.matmul(leadfield, source_predicted.data))\n",
    "plt.figure()\n",
    "cm, _ = mne.viz.plot_topomap(predicted_eeg[:, time_idx]*1e6, epochs.info)\n",
    "plt.title(f'Predicted EEG at {time_point}s')\n",
    "plt.colorbar(cm)\n",
    "\n",
    "# Plot the actual EEG input scalp map\n",
    "title = f'Actual EEG at {time_point}s'\n",
    "epochs.average().plot_topomap(time_point, title=title)\n"
   ]
  },
  {
   "source": [
    "## eLORETA solution\n",
    "Adapted from https://mne.tools/stable/auto_tutorials/source-modeling/plot_mne_solutions.html#sphx-glr-auto-tutorials-source-modeling-plot-mne-solutions-py"
   ],
   "cell_type": "markdown",
   "metadata": {}
  },
  {
   "cell_type": "code",
   "execution_count": null,
   "metadata": {},
   "outputs": [],
   "source": [
    "from ESINet.util import load_fwd\n",
    "fwd = load_fwd(pth_fwd)\n",
    "leadfield = load_leadfield(pth_fwd)\n",
    "\n",
    "# Compute noise covariance matrix\n",
    "noise_baseline = [-0.1, 0]\n",
    "noiseCovariance = mne.compute_covariance(epochs, tmin=noise_baseline[0], tmax=noise_baseline[1], method='empirical', verbose=0, n_jobs=-1)\n",
    "noiseCovariance = mne.cov.regularize(noiseCovariance, epochs.info, rank=None, verbose=0)\n",
    "\n",
    "snr = 5.0\n",
    "lambda2 = 1.0 / snr ** 2\n",
    "epochs.set_eeg_reference('average', projection=True)\n",
    "\n",
    "# Compute eLORETA inverse operator\n",
    "inv = mne.minimum_norm.make_inverse_operator(epochs.info, fwd, \n",
    "    noiseCovariance, fixed=True, verbose=False)\n",
    "\n",
    "# Compute eLORETA inverse solution\n",
    "eloreta_source_estimate = mne.minimum_norm.apply_inverse(epochs.average(), inv, lambda2,\n",
    "    method='eLORETA', verbose=False )\n",
    "\n",
    "# Plot eLORETA source\n",
    "title = f'eLORETA Prediction at {time_point}s'\n",
    "eloreta_source_estimate.plot(hemi='both', initial_time=time_point, surface='white', colormap='inferno', title=title)\n",
    "\n",
    "# Plot the Predicted EEG, i.e. the forward solution of the inverse solution\n",
    "predicted_eeg = np.squeeze(np.matmul(leadfield, eloreta_source_estimate.data))\n",
    "plt.figure()\n",
    "cm, _ = mne.viz.plot_topomap(predicted_eeg[:, time_idx]*1e6, epochs.info)\n",
    "plt.title(f'Predicted EEG eLORETA at {time_point}s')\n",
    "plt.colorbar(cm)\n",
    "\n",
    "# Plot the actual EEG input scalp map\n",
    "title = f'Actual EEG at {time_point}s'\n",
    "epochs.average().plot_topomap(time_point, title=title)"
   ]
  },
  {
   "cell_type": "code",
   "execution_count": null,
   "metadata": {},
   "outputs": [],
   "source": []
  }
 ]
}